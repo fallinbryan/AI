{
 "cells": [
  {
   "cell_type": "code",
   "execution_count": 58,
   "metadata": {},
   "outputs": [],
   "source": [
    "import numpy as np\n",
    "import random\n",
    "from sys import stdout\n",
    "import difflib\n",
    "from IPython.core.display import display, HTML, clear_output\n",
    "from NeuralNetwork import NeuralNetwork as NN"
   ]
  },
  {
   "cell_type": "code",
   "execution_count": 59,
   "metadata": {},
   "outputs": [],
   "source": [
    "k=0"
   ]
  },
  {
   "cell_type": "code",
   "execution_count": 60,
   "metadata": {},
   "outputs": [],
   "source": [
    "nn = NN(2, [4], 2)\n",
    "answerkey = [True,False]"
   ]
  },
  {
   "cell_type": "code",
   "execution_count": 61,
   "metadata": {},
   "outputs": [
    {
     "data": {
      "text/plain": [
       "False"
      ]
     },
     "execution_count": 61,
     "metadata": {},
     "output_type": "execute_result"
    }
   ],
   "source": [
    "answerkey[nn.predict([0.8,0.1]).argmax()]"
   ]
  },
  {
   "cell_type": "code",
   "execution_count": 62,
   "metadata": {},
   "outputs": [],
   "source": [
    "out1 = str(nn)\n"
   ]
  },
  {
   "cell_type": "code",
   "execution_count": 63,
   "metadata": {},
   "outputs": [],
   "source": [
    "data = [{'target':[0.1,0.8], 'input':[0.1,0.1]},\n",
    "        {'target':[0.8,0.1], 'input':[0.1,0.8]},\n",
    "        {'target':[0.8,0.1], 'input':[0.8,0.1]},\n",
    "        {'target':[0.1,0.8], 'input':[0.8,0.8]}\n",
    "       ]"
   ]
  },
  {
   "cell_type": "code",
   "execution_count": 65,
   "metadata": {},
   "outputs": [
    {
     "data": {
      "text/html": [
       "\n",
       "<!DOCTYPE html PUBLIC \"-//W3C//DTD XHTML 1.0 Transitional//EN\"\n",
       "          \"http://www.w3.org/TR/xhtml1/DTD/xhtml1-transitional.dtd\">\n",
       "\n",
       "<html>\n",
       "\n",
       "<head>\n",
       "    <meta http-equiv=\"Content-Type\"\n",
       "          content=\"text/html; charset=utf-8\" />\n",
       "    <title></title>\n",
       "    <style type=\"text/css\">\n",
       "        table.diff {font-family:Courier; border:medium;}\n",
       "        .diff_header {background-color:#e0e0e0}\n",
       "        td.diff_header {text-align:right}\n",
       "        .diff_next {background-color:#c0c0c0}\n",
       "        .diff_add {background-color:#aaffaa}\n",
       "        .diff_chg {background-color:#ffff77}\n",
       "        .diff_sub {background-color:#ffaaaa}\n",
       "    </style>\n",
       "</head>\n",
       "\n",
       "<body>\n",
       "    \n",
       "    <table class=\"diff\" id=\"difflib_chg_to1024__top\"\n",
       "           cellspacing=\"0\" cellpadding=\"0\" rules=\"groups\" >\n",
       "        <colgroup></colgroup> <colgroup></colgroup> <colgroup></colgroup>\n",
       "        <colgroup></colgroup> <colgroup></colgroup> <colgroup></colgroup>\n",
       "        \n",
       "        <tbody>\n",
       "            <tr><td class=\"diff_next\" id=\"difflib_chg_to1024__0\"><a href=\"#difflib_chg_to1024__0\">f</a></td><td class=\"diff_header\" id=\"from1024_1\">1</td><td nowrap=\"nowrap\">Weight&nbsp;Matrix[0]:</td><td class=\"diff_next\"><a href=\"#difflib_chg_to1024__0\">f</a></td><td class=\"diff_header\" id=\"to1024_1\">1</td><td nowrap=\"nowrap\">Weight&nbsp;Matrix[0]:</td></tr>\n",
       "            <tr><td class=\"diff_next\" id=\"difflib_chg_to1024__1\"><a href=\"#difflib_chg_to1024__1\">n</a></td><td class=\"diff_header\" id=\"from1024_2\">2</td><td nowrap=\"nowrap\">[[&nbsp;0.00835<span class=\"diff_chg\">525</span>&nbsp;&nbsp;0.3052<span class=\"diff_sub\">03</span>7<span class=\"diff_chg\">8</span>]</td><td class=\"diff_next\"><a href=\"#difflib_chg_to1024__1\">n</a></td><td class=\"diff_header\" id=\"to1024_2\">2</td><td nowrap=\"nowrap\">[[&nbsp;0.0083<span class=\"diff_add\">73</span>5<span class=\"diff_chg\">7</span>&nbsp;&nbsp;0.305<span class=\"diff_add\">19</span>27<span class=\"diff_chg\">5</span>]</td></tr>\n",
       "            <tr><td class=\"diff_next\"></td><td class=\"diff_header\" id=\"from1024_3\">3</td><td nowrap=\"nowrap\"><span class=\"diff_sub\">&nbsp;[-0.39042607&nbsp;&nbsp;0.36004184]</span></td><td class=\"diff_next\"></td><td class=\"diff_header\" id=\"to1024_3\">3</td><td nowrap=\"nowrap\"><span class=\"diff_add\">&nbsp;[-0.39039835&nbsp;&nbsp;0.36003067]</span></td></tr>\n",
       "            <tr><td class=\"diff_next\"></td><td class=\"diff_header\" id=\"from1024_4\">4</td><td nowrap=\"nowrap\">&nbsp;[&nbsp;0.3805<span class=\"diff_chg\">9</span>1<span class=\"diff_chg\">41</span>&nbsp;&nbsp;0.6097<span class=\"diff_chg\">7</span>3<span class=\"diff_chg\">08</span>]</td><td class=\"diff_next\"></td><td class=\"diff_header\" id=\"to1024_4\">4</td><td nowrap=\"nowrap\">&nbsp;[&nbsp;0.3805<span class=\"diff_chg\">76</span>1<span class=\"diff_chg\">7</span>&nbsp;&nbsp;0.6097<span class=\"diff_chg\">81</span>3<span class=\"diff_chg\">5</span>]</td></tr>\n",
       "            <tr><td class=\"diff_next\" id=\"difflib_chg_to1024__2\"></td><td class=\"diff_header\" id=\"from1024_5\">5</td><td nowrap=\"nowrap\"><span class=\"diff_sub\">&nbsp;[&nbsp;0.69728932&nbsp;&nbsp;0.08171399]]</span></td><td class=\"diff_next\"></td><td class=\"diff_header\" id=\"to1024_5\">5</td><td nowrap=\"nowrap\"><span class=\"diff_add\">&nbsp;[&nbsp;0.6972745&nbsp;&nbsp;&nbsp;0.08172615]]</span></td></tr>\n",
       "            <tr><td class=\"diff_next\"></td><td class=\"diff_header\" id=\"from1024_6\">6</td><td nowrap=\"nowrap\">Weight&nbsp;Matrix[1]:</td><td class=\"diff_next\"></td><td class=\"diff_header\" id=\"to1024_6\">6</td><td nowrap=\"nowrap\">Weight&nbsp;Matrix[1]:</td></tr>\n",
       "            <tr><td class=\"diff_next\"><a href=\"#difflib_chg_to1024__2\">n</a></td><td class=\"diff_header\" id=\"from1024_7\">7</td><td nowrap=\"nowrap\">[[&nbsp;0.5239<span class=\"diff_sub\">1</span>0<span class=\"diff_chg\">41</span>&nbsp;&nbsp;0.454<span class=\"diff_sub\">20</span>1<span class=\"diff_sub\">0</span>9&nbsp;-0.373421<span class=\"diff_sub\">31</span>&nbsp;-0.00741<span class=\"diff_sub\">789</span>]</td><td class=\"diff_next\"><a href=\"#difflib_chg_to1024__2\">n</a></td><td class=\"diff_header\" id=\"to1024_7\">7</td><td nowrap=\"nowrap\">[[&nbsp;0.52390<span class=\"diff_chg\">255</span>&nbsp;&nbsp;0.45419<span class=\"diff_add\">356</span>&nbsp;-0.37342<span class=\"diff_add\">35</span>1&nbsp;-0.0074<span class=\"diff_add\">236</span>1]</td></tr>\n",
       "            <tr><td class=\"diff_next\"></td><td class=\"diff_header\" id=\"from1024_8\">8</td><td nowrap=\"nowrap\">&nbsp;[&nbsp;0.232688<span class=\"diff_chg\">92</span>&nbsp;&nbsp;0.547<span class=\"diff_sub\">1</span>0<span class=\"diff_chg\">30</span>8&nbsp;-0.3122<span class=\"diff_sub\">8</span>9<span class=\"diff_chg\">58</span>&nbsp;-0.45183<span class=\"diff_chg\">83</span>6]]</td><td class=\"diff_next\"></td><td class=\"diff_header\" id=\"to1024_8\">8</td><td nowrap=\"nowrap\">&nbsp;[&nbsp;0.232688<span class=\"diff_chg\">54</span>&nbsp;&nbsp;0.5470<span class=\"diff_chg\">967</span>8&nbsp;-0.31229<span class=\"diff_chg\">697</span>&nbsp;-0.45183<span class=\"diff_chg\">49</span>6]]</td></tr>\n",
       "            <tr><td class=\"diff_next\"></td><td class=\"diff_header\" id=\"from1024_9\">9</td><td nowrap=\"nowrap\">Bias[0]:</td><td class=\"diff_next\"></td><td class=\"diff_header\" id=\"to1024_9\">9</td><td nowrap=\"nowrap\">Bias[0]:</td></tr>\n",
       "            <tr><td class=\"diff_next\" id=\"difflib_chg_to1024__3\"><a href=\"#difflib_chg_to1024__3\">n</a></td><td class=\"diff_header\" id=\"from1024_10\">10</td><td nowrap=\"nowrap\"><span class=\"diff_sub\">[[-0.27047657]</span></td><td class=\"diff_next\"><a href=\"#difflib_chg_to1024__3\">n</a></td><td class=\"diff_header\" id=\"to1024_10\">10</td><td nowrap=\"nowrap\"><span class=\"diff_add\">[[-0.27048301]</span></td></tr>\n",
       "            <tr><td class=\"diff_next\"></td><td class=\"diff_header\" id=\"from1024_11\">11</td><td nowrap=\"nowrap\">&nbsp;[-0.237661<span class=\"diff_chg\">08</span>]</td><td class=\"diff_next\"></td><td class=\"diff_header\" id=\"to1024_11\">11</td><td nowrap=\"nowrap\">&nbsp;[-0.23766<span class=\"diff_add\">6</span>1<span class=\"diff_chg\">4</span>]</td></tr>\n",
       "            <tr><td class=\"diff_next\"></td><td class=\"diff_header\" id=\"from1024_12\">12</td><td nowrap=\"nowrap\">&nbsp;[&nbsp;0.8054<span class=\"diff_chg\">8</span>36<span class=\"diff_sub\">3</span>]</td><td class=\"diff_next\"></td><td class=\"diff_header\" id=\"to1024_12\">12</td><td nowrap=\"nowrap\">&nbsp;[&nbsp;0.8054<span class=\"diff_chg\">91</span>36]</td></tr>\n",
       "            <tr><td class=\"diff_next\"></td><td class=\"diff_header\" id=\"from1024_13\">13</td><td nowrap=\"nowrap\">&nbsp;[&nbsp;0.52832<span class=\"diff_chg\">1</span>3<span class=\"diff_sub\">&nbsp;</span>]]</td><td class=\"diff_next\"></td><td class=\"diff_header\" id=\"to1024_13\">13</td><td nowrap=\"nowrap\">&nbsp;[&nbsp;0.52832<span class=\"diff_chg\">44</span>3]]</td></tr>\n",
       "            <tr><td class=\"diff_next\"></td><td class=\"diff_header\" id=\"from1024_14\">14</td><td nowrap=\"nowrap\">Bias[1]:</td><td class=\"diff_next\"></td><td class=\"diff_header\" id=\"to1024_14\">14</td><td nowrap=\"nowrap\">Bias[1]:</td></tr>\n",
       "            <tr><td class=\"diff_next\"><a href=\"#difflib_chg_to1024__top\">t</a></td><td class=\"diff_header\" id=\"from1024_15\">15</td><td nowrap=\"nowrap\"><span class=\"diff_sub\">[[-0.34613233]</span></td><td class=\"diff_next\"><a href=\"#difflib_chg_to1024__top\">t</a></td><td class=\"diff_header\" id=\"to1024_15\">15</td><td nowrap=\"nowrap\"><span class=\"diff_add\">[[-0.34614668]</span></td></tr>\n",
       "            <tr><td class=\"diff_next\"></td><td class=\"diff_header\" id=\"from1024_16\">16</td><td nowrap=\"nowrap\"><span class=\"diff_sub\">&nbsp;[&nbsp;0.01330072]]</span></td><td class=\"diff_next\"></td><td class=\"diff_header\" id=\"to1024_16\">16</td><td nowrap=\"nowrap\"><span class=\"diff_add\">&nbsp;[&nbsp;0.01329998]]</span></td></tr>\n",
       "        </tbody>\n",
       "    </table>\n",
       "    <table class=\"diff\" summary=\"Legends\">\n",
       "        <tr> <th colspan=\"2\"> Legends </th> </tr>\n",
       "        <tr> <td> <table border=\"\" summary=\"Colors\">\n",
       "                      <tr><th> Colors </th> </tr>\n",
       "                      <tr><td class=\"diff_add\">&nbsp;Added&nbsp;</td></tr>\n",
       "                      <tr><td class=\"diff_chg\">Changed</td> </tr>\n",
       "                      <tr><td class=\"diff_sub\">Deleted</td> </tr>\n",
       "                  </table></td>\n",
       "             <td> <table border=\"\" summary=\"Links\">\n",
       "                      <tr><th colspan=\"2\"> Links </th> </tr>\n",
       "                      <tr><td>(f)irst change</td> </tr>\n",
       "                      <tr><td>(n)ext change</td> </tr>\n",
       "                      <tr><td>(t)op</td> </tr>\n",
       "                  </table></td> </tr>\n",
       "    </table>\n",
       "</body>\n",
       "\n",
       "</html>"
      ],
      "text/plain": [
       "<IPython.core.display.HTML object>"
      ]
     },
     "metadata": {},
     "output_type": "display_data"
    }
   ],
   "source": [
    "i = 0\n",
    "while i < 1000:\n",
    "    clear_output()\n",
    "    out1 = str(nn)\n",
    "    i += 1\n",
    "    random.shuffle(data)\n",
    "    for d in data:\n",
    "        nn.train(d['input'],d['target'])\n",
    "    out2 = str(nn)\n",
    "    display(HTML(difflib.HtmlDiff().make_file(out1.splitlines(), out2.splitlines())))\n",
    "        "
   ]
  },
  {
   "cell_type": "code",
   "execution_count": 54,
   "metadata": {},
   "outputs": [
    {
     "name": "stdout",
     "output_type": "stream",
     "text": [
      "1 cycles\n",
      "[[0.79191721]\n",
      " [0.83905774]] True\n",
      "[[0.81228304]\n",
      " [0.85725593]] False\n",
      "[[0.82630538]\n",
      " [0.85826272]] False\n",
      "[[0.84183525]\n",
      " [0.87269509]] True\n"
     ]
    }
   ],
   "source": [
    "k += i\n",
    "print('{} cycles'.format(k))\n",
    "print(nn.predict([0.1,0.1]), not answerkey[nn.predict([0.1,0.1]).argmax()] )\n",
    "print(nn.predict([0.1,0.8]), answerkey[nn.predict([0.1,0.8]).argmax()] )\n",
    "print(nn.predict([0.8,0.1]), answerkey[nn.predict([0.8,0.1]).argmax()] )\n",
    "print(nn.predict([0.8,0.8]), not answerkey[nn.predict([0.8,0.8]).argmax()] )"
   ]
  },
  {
   "cell_type": "code",
   "execution_count": 55,
   "metadata": {},
   "outputs": [
    {
     "data": {
      "text/html": [
       "\n",
       "<!DOCTYPE html PUBLIC \"-//W3C//DTD XHTML 1.0 Transitional//EN\"\n",
       "          \"http://www.w3.org/TR/xhtml1/DTD/xhtml1-transitional.dtd\">\n",
       "\n",
       "<html>\n",
       "\n",
       "<head>\n",
       "    <meta http-equiv=\"Content-Type\"\n",
       "          content=\"text/html; charset=utf-8\" />\n",
       "    <title></title>\n",
       "    <style type=\"text/css\">\n",
       "        table.diff {font-family:Courier; border:medium;}\n",
       "        .diff_header {background-color:#e0e0e0}\n",
       "        td.diff_header {text-align:right}\n",
       "        .diff_next {background-color:#c0c0c0}\n",
       "        .diff_add {background-color:#aaffaa}\n",
       "        .diff_chg {background-color:#ffff77}\n",
       "        .diff_sub {background-color:#ffaaaa}\n",
       "    </style>\n",
       "</head>\n",
       "\n",
       "<body>\n",
       "    \n",
       "    <table class=\"diff\" id=\"difflib_chg_to4__top\"\n",
       "           cellspacing=\"0\" cellpadding=\"0\" rules=\"groups\" >\n",
       "        <colgroup></colgroup> <colgroup></colgroup> <colgroup></colgroup>\n",
       "        <colgroup></colgroup> <colgroup></colgroup> <colgroup></colgroup>\n",
       "        \n",
       "        <tbody>\n",
       "            <tr><td class=\"diff_next\" id=\"difflib_chg_to4__0\"><a href=\"#difflib_chg_to4__0\">f</a></td><td class=\"diff_header\" id=\"from4_1\">1</td><td nowrap=\"nowrap\">Weight&nbsp;Matrix[0]:</td><td class=\"diff_next\"><a href=\"#difflib_chg_to4__0\">f</a></td><td class=\"diff_header\" id=\"to4_1\">1</td><td nowrap=\"nowrap\">Weight&nbsp;Matrix[0]:</td></tr>\n",
       "            <tr><td class=\"diff_next\" id=\"difflib_chg_to4__1\"><a href=\"#difflib_chg_to4__1\">n</a></td><td class=\"diff_header\" id=\"from4_2\">2</td><td nowrap=\"nowrap\"><span class=\"diff_sub\">[[0.41668093&nbsp;0.67641791]</span></td><td class=\"diff_next\"><a href=\"#difflib_chg_to4__1\">n</a></td><td class=\"diff_header\" id=\"to4_2\">2</td><td nowrap=\"nowrap\"><span class=\"diff_add\">[[0.97338624&nbsp;0.32034879]</span></td></tr>\n",
       "            <tr><td class=\"diff_next\"></td><td class=\"diff_header\" id=\"from4_3\">3</td><td nowrap=\"nowrap\"><span class=\"diff_sub\">&nbsp;[0.54528649&nbsp;0.98268803]</span></td><td class=\"diff_next\"></td><td class=\"diff_header\" id=\"to4_3\">3</td><td nowrap=\"nowrap\"><span class=\"diff_add\">&nbsp;[0.37290404&nbsp;0.96325865]</span></td></tr>\n",
       "            <tr><td class=\"diff_next\"></td><td class=\"diff_header\" id=\"from4_4\">4</td><td nowrap=\"nowrap\"><span class=\"diff_sub\">&nbsp;[0.87985056&nbsp;0.31549883]</span></td><td class=\"diff_next\"></td><td class=\"diff_header\" id=\"to4_4\">4</td><td nowrap=\"nowrap\"><span class=\"diff_add\">&nbsp;[0.24238458&nbsp;0.28002881]</span></td></tr>\n",
       "            <tr><td class=\"diff_next\" id=\"difflib_chg_to4__2\"></td><td class=\"diff_header\" id=\"from4_5\">5</td><td nowrap=\"nowrap\"><span class=\"diff_sub\">&nbsp;[0.59583529&nbsp;0.13766675]]</span></td><td class=\"diff_next\"></td><td class=\"diff_header\" id=\"to4_5\">5</td><td nowrap=\"nowrap\"><span class=\"diff_add\">&nbsp;[0.02853613&nbsp;0.81054729]]</span></td></tr>\n",
       "            <tr><td class=\"diff_next\"></td><td class=\"diff_header\" id=\"from4_6\">6</td><td nowrap=\"nowrap\">Weight&nbsp;Matrix[1]:</td><td class=\"diff_next\"></td><td class=\"diff_header\" id=\"to4_6\">6</td><td nowrap=\"nowrap\">Weight&nbsp;Matrix[1]:</td></tr>\n",
       "            <tr><td class=\"diff_next\"><a href=\"#difflib_chg_to4__2\">n</a></td><td class=\"diff_header\" id=\"from4_7\">7</td><td nowrap=\"nowrap\"><span class=\"diff_sub\">[[0.31107519&nbsp;0.29388114&nbsp;0.60630997&nbsp;0.88349267]</span></td><td class=\"diff_next\"><a href=\"#difflib_chg_to4__2\">n</a></td><td class=\"diff_header\" id=\"to4_7\">7</td><td nowrap=\"nowrap\"><span class=\"diff_add\">[[0.28359191&nbsp;0.121989&nbsp;&nbsp;&nbsp;0.27322075&nbsp;0.61534623]</span></td></tr>\n",
       "            <tr><td class=\"diff_next\"></td><td class=\"diff_header\" id=\"from4_8\">8</td><td nowrap=\"nowrap\"><span class=\"diff_sub\">&nbsp;[0.63841369&nbsp;0.30754138&nbsp;0.49629201&nbsp;0.08327426]]</span></td><td class=\"diff_next\"></td><td class=\"diff_header\" id=\"to4_8\">8</td><td nowrap=\"nowrap\"><span class=\"diff_add\">&nbsp;[0.82304921&nbsp;0.09827237&nbsp;0.64384756&nbsp;0.30726216]]</span></td></tr>\n",
       "            <tr><td class=\"diff_next\"></td><td class=\"diff_header\" id=\"from4_9\">9</td><td nowrap=\"nowrap\">Bias[0]:</td><td class=\"diff_next\"></td><td class=\"diff_header\" id=\"to4_9\">9</td><td nowrap=\"nowrap\">Bias[0]:</td></tr>\n",
       "            <tr><td class=\"diff_next\" id=\"difflib_chg_to4__3\"><a href=\"#difflib_chg_to4__3\">n</a></td><td class=\"diff_header\" id=\"from4_10\">10</td><td nowrap=\"nowrap\"><span class=\"diff_sub\">[[0.16285843]</span></td><td class=\"diff_next\"><a href=\"#difflib_chg_to4__3\">n</a></td><td class=\"diff_header\" id=\"to4_10\">10</td><td nowrap=\"nowrap\"><span class=\"diff_add\">[[0.39717212]</span></td></tr>\n",
       "            <tr><td class=\"diff_next\"></td><td class=\"diff_header\" id=\"from4_11\">11</td><td nowrap=\"nowrap\"><span class=\"diff_sub\">&nbsp;[0.42789907]</span></td><td class=\"diff_next\"></td><td class=\"diff_header\" id=\"to4_11\">11</td><td nowrap=\"nowrap\"><span class=\"diff_add\">&nbsp;[0.95459307]</span></td></tr>\n",
       "            <tr><td class=\"diff_next\"></td><td class=\"diff_header\" id=\"from4_12\">12</td><td nowrap=\"nowrap\"><span class=\"diff_sub\">&nbsp;[0.00140671]</span></td><td class=\"diff_next\"></td><td class=\"diff_header\" id=\"to4_12\">12</td><td nowrap=\"nowrap\"><span class=\"diff_add\">&nbsp;[0.44945953]</span></td></tr>\n",
       "            <tr><td class=\"diff_next\" id=\"difflib_chg_to4__4\"></td><td class=\"diff_header\" id=\"from4_13\">13</td><td nowrap=\"nowrap\"><span class=\"diff_sub\">&nbsp;[0.01547894]]</span></td><td class=\"diff_next\"></td><td class=\"diff_header\" id=\"to4_13\">13</td><td nowrap=\"nowrap\"><span class=\"diff_add\">&nbsp;[0.58281983]]</span></td></tr>\n",
       "            <tr><td class=\"diff_next\"></td><td class=\"diff_header\" id=\"from4_14\">14</td><td nowrap=\"nowrap\">Bias[1]:</td><td class=\"diff_next\"></td><td class=\"diff_header\" id=\"to4_14\">14</td><td nowrap=\"nowrap\">Bias[1]:</td></tr>\n",
       "            <tr><td class=\"diff_next\"><a href=\"#difflib_chg_to4__4\">n</a></td><td class=\"diff_header\" id=\"from4_15\">15</td><td nowrap=\"nowrap\"><span class=\"diff_sub\">[[0.19832942]</span></td><td class=\"diff_next\"><a href=\"#difflib_chg_to4__4\">n</a></td><td class=\"diff_header\" id=\"to4_15\">15</td><td nowrap=\"nowrap\"><span class=\"diff_add\">[[0.35572663]</span></td></tr>\n",
       "            <tr><td class=\"diff_next\"></td><td class=\"diff_header\" id=\"from4_16\">16</td><td nowrap=\"nowrap\"><span class=\"diff_sub\">&nbsp;[0.79486145]]</span></td><td class=\"diff_next\"></td><td class=\"diff_header\" id=\"to4_16\">16</td><td nowrap=\"nowrap\"><span class=\"diff_add\">&nbsp;[0.76787209]]</span></td></tr>\n",
       "            <tr><td class=\"diff_next\"></td><td class=\"diff_header\" id=\"from4_17\">17</td><td nowrap=\"nowrap\">Layer[0]:</td><td class=\"diff_next\"></td><td class=\"diff_header\" id=\"to4_17\">17</td><td nowrap=\"nowrap\">Layer[0]:</td></tr>\n",
       "            <tr><td class=\"diff_next\" id=\"difflib_chg_to4__5\"><a href=\"#difflib_chg_to4__5\">n</a></td><td class=\"diff_header\" id=\"from4_18\">18</td><td nowrap=\"nowrap\"><span class=\"diff_sub\">[[0.63734172]</span></td><td class=\"diff_next\"><a href=\"#difflib_chg_to4__5\">n</a></td><td class=\"diff_header\" id=\"to4_18\">18</td><td nowrap=\"nowrap\"><span class=\"diff_add\">[[0.80723767]</span></td></tr>\n",
       "            <tr><td class=\"diff_next\"></td><td class=\"diff_header\" id=\"from4_19\">19</td><td nowrap=\"nowrap\"><span class=\"diff_sub\">&nbsp;[0.72360148]</span></td><td class=\"diff_next\"></td><td class=\"diff_header\" id=\"to4_19\">19</td><td nowrap=\"nowrap\"><span class=\"diff_add\">&nbsp;[0.88324483]</span></td></tr>\n",
       "            <tr><td class=\"diff_next\"></td><td class=\"diff_header\" id=\"from4_20\">20</td><td nowrap=\"nowrap\"><span class=\"diff_sub\">&nbsp;[0.67630382]</span></td><td class=\"diff_next\"></td><td class=\"diff_header\" id=\"to4_20\">20</td><td nowrap=\"nowrap\"><span class=\"diff_add\">&nbsp;[0.70420237]</span></td></tr>\n",
       "            <tr><td class=\"diff_next\"></td><td class=\"diff_header\" id=\"from4_21\">21</td><td nowrap=\"nowrap\"><span class=\"diff_sub\">&nbsp;[0.6238481&nbsp;]]</span></td><td class=\"diff_next\"></td><td class=\"diff_header\" id=\"to4_21\">21</td><td nowrap=\"nowrap\"><span class=\"diff_add\">&nbsp;[0.77800646]]</span></td></tr>\n",
       "            <tr><td class=\"diff_next\"></td><td class=\"diff_header\" id=\"from4_22\">22</td><td nowrap=\"nowrap\">Layer[1]:</td><td class=\"diff_next\"></td><td class=\"diff_header\" id=\"to4_22\">22</td><td nowrap=\"nowrap\">Layer[1]:</td></tr>\n",
       "            <tr><td class=\"diff_next\"><a href=\"#difflib_chg_to4__top\">t</a></td><td class=\"diff_header\" id=\"from4_23\">23</td><td nowrap=\"nowrap\"><span class=\"diff_sub\">[[0.82784895]</span></td><td class=\"diff_next\"><a href=\"#difflib_chg_to4__top\">t</a></td><td class=\"diff_header\" id=\"to4_23\">23</td><td nowrap=\"nowrap\"><span class=\"diff_add\">[[0.79633523]</span></td></tr>\n",
       "            <tr><td class=\"diff_next\"></td><td class=\"diff_header\" id=\"from4_24\">24</td><td nowrap=\"nowrap\"><span class=\"diff_sub\">&nbsp;[0.85958908]]</span></td><td class=\"diff_next\"></td><td class=\"diff_header\" id=\"to4_24\">24</td><td nowrap=\"nowrap\"><span class=\"diff_add\">&nbsp;[0.90127906]]</span></td></tr>\n",
       "        </tbody>\n",
       "    </table>\n",
       "    <table class=\"diff\" summary=\"Legends\">\n",
       "        <tr> <th colspan=\"2\"> Legends </th> </tr>\n",
       "        <tr> <td> <table border=\"\" summary=\"Colors\">\n",
       "                      <tr><th> Colors </th> </tr>\n",
       "                      <tr><td class=\"diff_add\">&nbsp;Added&nbsp;</td></tr>\n",
       "                      <tr><td class=\"diff_chg\">Changed</td> </tr>\n",
       "                      <tr><td class=\"diff_sub\">Deleted</td> </tr>\n",
       "                  </table></td>\n",
       "             <td> <table border=\"\" summary=\"Links\">\n",
       "                      <tr><th colspan=\"2\"> Links </th> </tr>\n",
       "                      <tr><td>(f)irst change</td> </tr>\n",
       "                      <tr><td>(n)ext change</td> </tr>\n",
       "                      <tr><td>(t)op</td> </tr>\n",
       "                  </table></td> </tr>\n",
       "    </table>\n",
       "</body>\n",
       "\n",
       "</html>"
      ],
      "text/plain": [
       "<IPython.core.display.HTML object>"
      ]
     },
     "metadata": {},
     "output_type": "display_data"
    }
   ],
   "source": [
    "display(HTML(difflib.HtmlDiff().make_file(out1.splitlines(), out2.splitlines())))"
   ]
  },
  {
   "cell_type": "code",
   "execution_count": 67,
   "metadata": {},
   "outputs": [
    {
     "data": {
      "text/plain": [
       "'\\n    <table class=\"diff\" id=\"difflib_chg_to1026__top\"\\n           cellspacing=\"0\" cellpadding=\"0\" rules=\"groups\" >\\n        <colgroup></colgroup> <colgroup></colgroup> <colgroup></colgroup>\\n        <colgroup></colgroup> <colgroup></colgroup> <colgroup></colgroup>\\n        \\n        <tbody>\\n            <tr><td class=\"diff_next\" id=\"difflib_chg_to1026__0\"><a href=\"#difflib_chg_to1026__0\">f</a></td><td class=\"diff_header\" id=\"from1026_1\">1</td><td nowrap=\"nowrap\">Weight&nbsp;Matrix[0]:</td><td class=\"diff_next\"><a href=\"#difflib_chg_to1026__0\">f</a></td><td class=\"diff_header\" id=\"to1026_1\">1</td><td nowrap=\"nowrap\">Weight&nbsp;Matrix[0]:</td></tr>\\n            <tr><td class=\"diff_next\" id=\"difflib_chg_to1026__1\"><a href=\"#difflib_chg_to1026__1\">n</a></td><td class=\"diff_header\" id=\"from1026_2\">2</td><td nowrap=\"nowrap\">[[&nbsp;0.00835<span class=\"diff_chg\">525</span>&nbsp;&nbsp;0.3052<span class=\"diff_sub\">03</span>7<span class=\"diff_chg\">8</span>]</td><td class=\"diff_next\"><a href=\"#difflib_chg_to1026__1\">n</a></td><td class=\"diff_header\" id=\"to1026_2\">2</td><td nowrap=\"nowrap\">[[&nbsp;0.0083<span class=\"diff_add\">73</span>5<span class=\"diff_chg\">7</span>&nbsp;&nbsp;0.305<span class=\"diff_add\">19</span>27<span class=\"diff_chg\">5</span>]</td></tr>\\n            <tr><td class=\"diff_next\"></td><td class=\"diff_header\" id=\"from1026_3\">3</td><td nowrap=\"nowrap\"><span class=\"diff_sub\">&nbsp;[-0.39042607&nbsp;&nbsp;0.36004184]</span></td><td class=\"diff_next\"></td><td class=\"diff_header\" id=\"to1026_3\">3</td><td nowrap=\"nowrap\"><span class=\"diff_add\">&nbsp;[-0.39039835&nbsp;&nbsp;0.36003067]</span></td></tr>\\n            <tr><td class=\"diff_next\"></td><td class=\"diff_header\" id=\"from1026_4\">4</td><td nowrap=\"nowrap\">&nbsp;[&nbsp;0.3805<span class=\"diff_chg\">9</span>1<span class=\"diff_chg\">41</span>&nbsp;&nbsp;0.6097<span class=\"diff_chg\">7</span>3<span class=\"diff_chg\">08</span>]</td><td class=\"diff_next\"></td><td class=\"diff_header\" id=\"to1026_4\">4</td><td nowrap=\"nowrap\">&nbsp;[&nbsp;0.3805<span class=\"diff_chg\">76</span>1<span class=\"diff_chg\">7</span>&nbsp;&nbsp;0.6097<span class=\"diff_chg\">81</span>3<span class=\"diff_chg\">5</span>]</td></tr>\\n            <tr><td class=\"diff_next\" id=\"difflib_chg_to1026__2\"></td><td class=\"diff_header\" id=\"from1026_5\">5</td><td nowrap=\"nowrap\"><span class=\"diff_sub\">&nbsp;[&nbsp;0.69728932&nbsp;&nbsp;0.08171399]]</span></td><td class=\"diff_next\"></td><td class=\"diff_header\" id=\"to1026_5\">5</td><td nowrap=\"nowrap\"><span class=\"diff_add\">&nbsp;[&nbsp;0.6972745&nbsp;&nbsp;&nbsp;0.08172615]]</span></td></tr>\\n            <tr><td class=\"diff_next\"></td><td class=\"diff_header\" id=\"from1026_6\">6</td><td nowrap=\"nowrap\">Weight&nbsp;Matrix[1]:</td><td class=\"diff_next\"></td><td class=\"diff_header\" id=\"to1026_6\">6</td><td nowrap=\"nowrap\">Weight&nbsp;Matrix[1]:</td></tr>\\n            <tr><td class=\"diff_next\"><a href=\"#difflib_chg_to1026__2\">n</a></td><td class=\"diff_header\" id=\"from1026_7\">7</td><td nowrap=\"nowrap\">[[&nbsp;0.5239<span class=\"diff_sub\">1</span>0<span class=\"diff_chg\">41</span>&nbsp;&nbsp;0.454<span class=\"diff_sub\">20</span>1<span class=\"diff_sub\">0</span>9&nbsp;-0.373421<span class=\"diff_sub\">31</span>&nbsp;-0.00741<span class=\"diff_sub\">789</span>]</td><td class=\"diff_next\"><a href=\"#difflib_chg_to1026__2\">n</a></td><td class=\"diff_header\" id=\"to1026_7\">7</td><td nowrap=\"nowrap\">[[&nbsp;0.52390<span class=\"diff_chg\">255</span>&nbsp;&nbsp;0.45419<span class=\"diff_add\">356</span>&nbsp;-0.37342<span class=\"diff_add\">35</span>1&nbsp;-0.0074<span class=\"diff_add\">236</span>1]</td></tr>\\n            <tr><td class=\"diff_next\"></td><td class=\"diff_header\" id=\"from1026_8\">8</td><td nowrap=\"nowrap\">&nbsp;[&nbsp;0.232688<span class=\"diff_chg\">92</span>&nbsp;&nbsp;0.547<span class=\"diff_sub\">1</span>0<span class=\"diff_chg\">30</span>8&nbsp;-0.3122<span class=\"diff_sub\">8</span>9<span class=\"diff_chg\">58</span>&nbsp;-0.45183<span class=\"diff_chg\">83</span>6]]</td><td class=\"diff_next\"></td><td class=\"diff_header\" id=\"to1026_8\">8</td><td nowrap=\"nowrap\">&nbsp;[&nbsp;0.232688<span class=\"diff_chg\">54</span>&nbsp;&nbsp;0.5470<span class=\"diff_chg\">967</span>8&nbsp;-0.31229<span class=\"diff_chg\">697</span>&nbsp;-0.45183<span class=\"diff_chg\">49</span>6]]</td></tr>\\n            <tr><td class=\"diff_next\"></td><td class=\"diff_header\" id=\"from1026_9\">9</td><td nowrap=\"nowrap\">Bias[0]:</td><td class=\"diff_next\"></td><td class=\"diff_header\" id=\"to1026_9\">9</td><td nowrap=\"nowrap\">Bias[0]:</td></tr>\\n            <tr><td class=\"diff_next\" id=\"difflib_chg_to1026__3\"><a href=\"#difflib_chg_to1026__3\">n</a></td><td class=\"diff_header\" id=\"from1026_10\">10</td><td nowrap=\"nowrap\"><span class=\"diff_sub\">[[-0.27047657]</span></td><td class=\"diff_next\"><a href=\"#difflib_chg_to1026__3\">n</a></td><td class=\"diff_header\" id=\"to1026_10\">10</td><td nowrap=\"nowrap\"><span class=\"diff_add\">[[-0.27048301]</span></td></tr>\\n            <tr><td class=\"diff_next\"></td><td class=\"diff_header\" id=\"from1026_11\">11</td><td nowrap=\"nowrap\">&nbsp;[-0.237661<span class=\"diff_chg\">08</span>]</td><td class=\"diff_next\"></td><td class=\"diff_header\" id=\"to1026_11\">11</td><td nowrap=\"nowrap\">&nbsp;[-0.23766<span class=\"diff_add\">6</span>1<span class=\"diff_chg\">4</span>]</td></tr>\\n            <tr><td class=\"diff_next\"></td><td class=\"diff_header\" id=\"from1026_12\">12</td><td nowrap=\"nowrap\">&nbsp;[&nbsp;0.8054<span class=\"diff_chg\">8</span>36<span class=\"diff_sub\">3</span>]</td><td class=\"diff_next\"></td><td class=\"diff_header\" id=\"to1026_12\">12</td><td nowrap=\"nowrap\">&nbsp;[&nbsp;0.8054<span class=\"diff_chg\">91</span>36]</td></tr>\\n            <tr><td class=\"diff_next\"></td><td class=\"diff_header\" id=\"from1026_13\">13</td><td nowrap=\"nowrap\">&nbsp;[&nbsp;0.52832<span class=\"diff_chg\">1</span>3<span class=\"diff_sub\">&nbsp;</span>]]</td><td class=\"diff_next\"></td><td class=\"diff_header\" id=\"to1026_13\">13</td><td nowrap=\"nowrap\">&nbsp;[&nbsp;0.52832<span class=\"diff_chg\">44</span>3]]</td></tr>\\n            <tr><td class=\"diff_next\"></td><td class=\"diff_header\" id=\"from1026_14\">14</td><td nowrap=\"nowrap\">Bias[1]:</td><td class=\"diff_next\"></td><td class=\"diff_header\" id=\"to1026_14\">14</td><td nowrap=\"nowrap\">Bias[1]:</td></tr>\\n            <tr><td class=\"diff_next\"><a href=\"#difflib_chg_to1026__top\">t</a></td><td class=\"diff_header\" id=\"from1026_15\">15</td><td nowrap=\"nowrap\"><span class=\"diff_sub\">[[-0.34613233]</span></td><td class=\"diff_next\"><a href=\"#difflib_chg_to1026__top\">t</a></td><td class=\"diff_header\" id=\"to1026_15\">15</td><td nowrap=\"nowrap\"><span class=\"diff_add\">[[-0.34614668]</span></td></tr>\\n            <tr><td class=\"diff_next\"></td><td class=\"diff_header\" id=\"from1026_16\">16</td><td nowrap=\"nowrap\"><span class=\"diff_sub\">&nbsp;[&nbsp;0.01330072]]</span></td><td class=\"diff_next\"></td><td class=\"diff_header\" id=\"to1026_16\">16</td><td nowrap=\"nowrap\"><span class=\"diff_add\">&nbsp;[&nbsp;0.01329998]]</span></td></tr>\\n        </tbody>\\n    </table>'"
      ]
     },
     "execution_count": 67,
     "metadata": {},
     "output_type": "execute_result"
    }
   ],
   "source": [
    "difflib.HtmlDiff().make_table(out1.splitlines(), out2.splitlines())"
   ]
  },
  {
   "cell_type": "code",
   "execution_count": null,
   "metadata": {},
   "outputs": [],
   "source": []
  }
 ],
 "metadata": {
  "kernelspec": {
   "display_name": "Python 3",
   "language": "python",
   "name": "python3"
  },
  "language_info": {
   "codemirror_mode": {
    "name": "ipython",
    "version": 3
   },
   "file_extension": ".py",
   "mimetype": "text/x-python",
   "name": "python",
   "nbconvert_exporter": "python",
   "pygments_lexer": "ipython3",
   "version": "3.6.4"
  }
 },
 "nbformat": 4,
 "nbformat_minor": 2
}
