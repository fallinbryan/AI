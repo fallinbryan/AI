{
 "cells": [
  {
   "cell_type": "code",
   "execution_count": 1,
   "metadata": {},
   "outputs": [],
   "source": [
    "from IPython.display import HTML, Javascript\n",
    "from NeuralNetwork import NeuralNetwork as NN\n",
    "import json\n",
    "import threading\n",
    "import random"
   ]
  },
  {
   "cell_type": "code",
   "execution_count": 2,
   "metadata": {},
   "outputs": [],
   "source": [
    "nn = NN(2,[4,4],2)\n",
    "nn.learingRate = 20\n",
    "answerkey = [True,False]\n"
   ]
  },
  {
   "cell_type": "code",
   "execution_count": 3,
   "metadata": {},
   "outputs": [],
   "source": [
    "def nnJson():\n",
    "    print(nn.toJSON())"
   ]
  },
  {
   "cell_type": "code",
   "execution_count": 4,
   "metadata": {},
   "outputs": [],
   "source": [
    "def xor(arg1,arg2):\n",
    "    a = 0\n",
    "    b = 0\n",
    "    status = 'unknown'\n",
    "    if(arg1):\n",
    "        a= 0.8\n",
    "    else:\n",
    "        a = 0.1\n",
    "    if(arg2):\n",
    "        b = 0.8\n",
    "    else:\n",
    "        b = 0.1\n",
    "    result = answerkey[nn.predict([a,b]).argmax()]\n",
    "    if result == arg1 ^ arg2:\n",
    "        status = 'good'\n",
    "    else:\n",
    "        status = 'fail'\n",
    "    return json.dumps({'status':status,'result':'{} xor {} = {}'.format(arg1,arg2,result)})\n",
    "    \n",
    "    "
   ]
  },
  {
   "cell_type": "code",
   "execution_count": 5,
   "metadata": {},
   "outputs": [],
   "source": [
    "def train(cycles):\n",
    "    cycle = 0\n",
    "    data = [{'target':[0.1,0.8], 'input':[0.1,0.1]},\n",
    "        {'target':[0.8,0.1], 'input':[0.1,0.8]},\n",
    "        {'target':[0.8,0.1], 'input':[0.8,0.1]},\n",
    "        {'target':[0.1,0.8], 'input':[0.8,0.8]}\n",
    "       ]\n",
    "    while cycle < cycles:\n",
    "        cycle += 1\n",
    "        random.shuffle(data)\n",
    "        for d in data:\n",
    "            nn.train(d['input'],d['target'])\n",
    "    nn.predict(data[0]['input'])\n",
    "        "
   ]
  },
  {
   "cell_type": "code",
   "execution_count": 6,
   "metadata": {
    "scrolled": true
   },
   "outputs": [
    {
     "data": {
      "text/html": [
       "<h1>Neural Network Trainer</h1>\n",
       "\n",
       "\n",
       "<div class=\"input-group\">\n",
       "  <div class=\"input-group-append\">\n",
       "    <span class=\"input-group-text\">Cycles</span>\n",
       "  </div>\n",
       "  <input id=\"cycles\" type=\"text\" class=\"form-control\" aria-label=\"Cycles\" value='100'></input>\n",
       "  <button id=\"go\" class=\"btn btn-default\">GO!</button>\n",
       "</div>\n",
       "\n",
       "<div>\n",
       "    <div class='container'>\n",
       "        <div class='row'>\n",
       "          <div class='col-sm-4' id='weightCol'>\n",
       "            Weights\n",
       "          </div>\n",
       "          <div class='col-sm-4' id='biasCol' style=\"width:150px;\">\n",
       "            Biases\n",
       "          </div>\n",
       "          <div class='col-sm-4' id='layerCol'style=\"width:150px;\">\n",
       "            Layers\n",
       "          </div>\n",
       "        </div>\n",
       "        \n",
       "    </div>\n",
       "    \n",
       "    \n",
       "    <div id='errors'></div>\n",
       "</div>"
      ],
      "text/plain": [
       "<IPython.core.display.HTML object>"
      ]
     },
     "metadata": {},
     "output_type": "display_data"
    }
   ],
   "source": [
    "%%html\n",
    "<h1>Neural Network Trainer</h1>\n",
    "\n",
    "\n",
    "<div class=\"input-group\">\n",
    "  <div class=\"input-group-append\">\n",
    "    <span class=\"input-group-text\">Cycles</span>\n",
    "  </div>\n",
    "  <input id=\"cycles\" type=\"text\" class=\"form-control\" aria-label=\"Cycles\" value='100'></input>\n",
    "  <button id=\"go\" class=\"btn btn-default\">GO!</button>\n",
    "</div>\n",
    "\n",
    "<div>\n",
    "    <div class='container'>\n",
    "        <div class='row'>\n",
    "          <div class='col-sm-4' id='weightCol'>\n",
    "            Weights\n",
    "          </div>\n",
    "          <div class='col-sm-4' id='biasCol' style=\"width:150px;\">\n",
    "            Biases\n",
    "          </div>\n",
    "          <div class='col-sm-4' id='layerCol'style=\"width:150px;\">\n",
    "            Layers\n",
    "          </div>\n",
    "        </div>\n",
    "        \n",
    "    </div>\n",
    "    \n",
    "    \n",
    "    <div id='errors'></div>\n",
    "</div>"
   ]
  },
  {
   "cell_type": "code",
   "execution_count": 20,
   "metadata": {},
   "outputs": [
    {
     "name": "stdout",
     "output_type": "stream",
     "text": [
      "{\"status\": \"good\", \"result\": \"True xor True = False\"}\n",
      "{\"status\": \"good\", \"result\": \"False xor False = False\"}\n",
      "{\"status\": \"good\", \"result\": \"True xor False = True\"}\n",
      "{\"status\": \"good\", \"result\": \"False xor True = True\"}\n"
     ]
    }
   ],
   "source": [
    "print(xor(True,True))\n",
    "print(xor(False,False))\n",
    "print(xor(True,False))\n",
    "print(xor(False,True))"
   ]
  },
  {
   "cell_type": "code",
   "execution_count": 8,
   "metadata": {},
   "outputs": [
    {
     "data": {
      "application/javascript": [
       "function nnToTable(data) {\n",
       "    //console.log(data)\n",
       "    if(data.content.ename !== undefined ) {\n",
       "        var content = data.content\n",
       "        $('#errors').html(`<h1>${content.ename}</h1><h2>${content.evalue}</h2><p>${JSON.stringify(content.traceback)}</p>`);\n",
       "        return\n",
       "    } \n",
       "    \n",
       "    var nndata = JSON.parse(data.content.text.trim());\n",
       "    //console.log(nndata);\n",
       "    var wtable = buildTableFromMatrix(nndata.weights[0])\n",
       "    //console.log(`returned table:${wtable}`)\n",
       "    //console.log(wtable)\n",
       "     $('#weightCol').empty()\n",
       "    $('#weightCol').append(`<h3>Weights</h3>`)\n",
       "    for(var i = 0 ; i < nndata.weights.length; i++) {\n",
       "        $('#weightCol').append(buildTableFromMatrix(nndata.weights[i]))\n",
       "    }\n",
       "    $('#biasCol').empty()\n",
       "    $('#biasCol').append(`<h3>Biases</h3>`)\n",
       "    for(var i = 0 ; i < nndata.weights.length; i++) {\n",
       "        $('#biasCol').append(buildTableFromMatrix(nndata.biases[i]))\n",
       "    }\n",
       "    $('#layerCol').empty()\n",
       "    $('#layerCol').append(`<h3>Layers</h3>`)\n",
       "    for(var i = 0 ; i < nndata.weights.length; i++) {\n",
       "        $('#layerCol').append(buildTableFromMatrix(nndata.layers[i]))\n",
       "    }\n",
       "    \n",
       "    $('.row td').each(function() {\n",
       "        var bg = toGreyscale(parseFloat($(this).text()));\n",
       "        //console.log(gscale)\n",
       "        var fg = 255-bg\n",
       "        $(this).css('background-color',`rgb(${bg},${bg},${bg})`);\n",
       "        $(this).css('color',`rgb(${fg},${fg},${fg})` )\n",
       "    });\n",
       "}\n",
       "\n",
       "\n",
       "function buildTableFromMatrix(matrix) {\n",
       "    //console.log(`Building Table from ${matrix.length} x ${matrix[0].length} matrix`)\n",
       "    var table = $('<table>');\n",
       "    table.addClass('table table-striped table-bordered table-dark table-sm')\n",
       "    for(var row = 0; row < matrix.length; row++) {\n",
       "        var tr = $('<tr>');\n",
       "        for(var col = 0; col < matrix[row].length; col++ ) {\n",
       "            tr.append(`<td>${matrix[row][col].toFixed(5)}</td>`)\n",
       "        } table.append(tr)\n",
       "    }\n",
       "    \n",
       "    return table\n",
       "}\n",
       "\n",
       "function map (num, in_min, in_max, out_min, out_max) {\n",
       "  return (num - in_min) * (out_max - out_min) / (in_max - in_min) + out_min;\n",
       "}\n",
       "\n",
       "function toGreyscale(num) {\n",
       "    return map(num, 0.0,1.0,0,255)\n",
       "}\n",
       "\n",
       "var timer = null;\n",
       "$('#go').click(function() {\n",
       "    $('#go').attr('disabled','disabled');\n",
       "     var cycles = 10\n",
       "    if($.isNumeric($(\"#cycles\").val())) {\n",
       "      cycles = parseInt($(\"#cycles\").val())\n",
       "    }\n",
       "    var kernel = IPython.notebook.kernel;\n",
       "    var nnCallbacks = {\n",
       "        iopub : {\n",
       "            output: nnToTable,\n",
       "            }\n",
       "        };\n",
       "    //kernel.execute('threading.thread(target=train, args=(10000,)).start()');\n",
       "    var timerCount = 0\n",
       "    timer = setInterval(function() {\n",
       "        timerCount++\n",
       "        //console.log(timerCount)\n",
       "        $(\"#cycles\").val(cycles-timerCount)\n",
       "        kernel.execute('train(100)')\n",
       "        if(timerCount > cycles) {\n",
       "            $('#go').removeAttr('disabled');\n",
       "            clearInterval(timer)\n",
       "            console.log('suspending Timer')\n",
       "        }\n",
       "        kernel.execute('nnJson()',nnCallbacks)},100)\n",
       "    \n",
       "});"
      ],
      "text/plain": [
       "<IPython.core.display.Javascript object>"
      ]
     },
     "metadata": {},
     "output_type": "display_data"
    }
   ],
   "source": [
    "%%javascript\n",
    "function nnToTable(data) {\n",
    "    //console.log(data)\n",
    "    if(data.content.ename !== undefined ) {\n",
    "        var content = data.content\n",
    "        $('#errors').html(`<h1>${content.ename}</h1><h2>${content.evalue}</h2><p>${JSON.stringify(content.traceback)}</p>`);\n",
    "        return\n",
    "    } \n",
    "    \n",
    "    var nndata = JSON.parse(data.content.text.trim());\n",
    "    //console.log(nndata);\n",
    "    var wtable = buildTableFromMatrix(nndata.weights[0])\n",
    "    //console.log(`returned table:${wtable}`)\n",
    "    //console.log(wtable)\n",
    "     $('#weightCol').empty()\n",
    "    $('#weightCol').append(`<h3>Weights</h3>`)\n",
    "    for(var i = 0 ; i < nndata.weights.length; i++) {\n",
    "        $('#weightCol').append(buildTableFromMatrix(nndata.weights[i]))\n",
    "    }\n",
    "    $('#biasCol').empty()\n",
    "    $('#biasCol').append(`<h3>Biases</h3>`)\n",
    "    for(var i = 0 ; i < nndata.weights.length; i++) {\n",
    "        $('#biasCol').append(buildTableFromMatrix(nndata.biases[i]))\n",
    "    }\n",
    "    $('#layerCol').empty()\n",
    "    $('#layerCol').append(`<h3>Layers</h3>`)\n",
    "    for(var i = 0 ; i < nndata.weights.length; i++) {\n",
    "        $('#layerCol').append(buildTableFromMatrix(nndata.layers[i]))\n",
    "    }\n",
    "    \n",
    "    $('.row td').each(function() {\n",
    "        var bg = toGreyscale(parseFloat($(this).text()));\n",
    "        //console.log(gscale)\n",
    "        var fg = 255-bg\n",
    "        $(this).css('background-color',`rgb(${bg},${bg},${bg})`);\n",
    "        $(this).css('color',`rgb(${fg},${fg},${fg})` )\n",
    "    });\n",
    "}\n",
    "\n",
    "\n",
    "function buildTableFromMatrix(matrix) {\n",
    "    //console.log(`Building Table from ${matrix.length} x ${matrix[0].length} matrix`)\n",
    "    var table = $('<table>');\n",
    "    table.addClass('table table-striped table-bordered table-dark table-sm')\n",
    "    for(var row = 0; row < matrix.length; row++) {\n",
    "        var tr = $('<tr>');\n",
    "        for(var col = 0; col < matrix[row].length; col++ ) {\n",
    "            tr.append(`<td>${matrix[row][col].toFixed(5)}</td>`)\n",
    "        } table.append(tr)\n",
    "    }\n",
    "    \n",
    "    return table\n",
    "}\n",
    "\n",
    "function map (num, in_min, in_max, out_min, out_max) {\n",
    "  return (num - in_min) * (out_max - out_min) / (in_max - in_min) + out_min;\n",
    "}\n",
    "\n",
    "function toGreyscale(num) {\n",
    "    return map(num, 0.0,1.0,0,255)\n",
    "}\n",
    "\n",
    "var timer = null;\n",
    "$('#go').click(function() {\n",
    "    $('#go').attr('disabled','disabled');\n",
    "     var cycles = 10\n",
    "    if($.isNumeric($(\"#cycles\").val())) {\n",
    "      cycles = parseInt($(\"#cycles\").val())\n",
    "    }\n",
    "    var kernel = IPython.notebook.kernel;\n",
    "    var nnCallbacks = {\n",
    "        iopub : {\n",
    "            output: nnToTable,\n",
    "            }\n",
    "        };\n",
    "    //kernel.execute('threading.thread(target=train, args=(10000,)).start()');\n",
    "    var timerCount = 0\n",
    "    timer = setInterval(function() {\n",
    "        timerCount++\n",
    "        //console.log(timerCount)\n",
    "        $(\"#cycles\").val(cycles-timerCount)\n",
    "        kernel.execute('train(100)')\n",
    "        if(timerCount > cycles) {\n",
    "            $('#go').removeAttr('disabled');\n",
    "            clearInterval(timer)\n",
    "            console.log('suspending Timer')\n",
    "        }\n",
    "        kernel.execute('nnJson()',nnCallbacks)},100)\n",
    "    \n",
    "});"
   ]
  },
  {
   "cell_type": "code",
   "execution_count": 9,
   "metadata": {},
   "outputs": [
    {
     "data": {
      "text/plain": [
       "20"
      ]
     },
     "execution_count": 9,
     "metadata": {},
     "output_type": "execute_result"
    }
   ],
   "source": [
    "nn.learingRate"
   ]
  },
  {
   "cell_type": "code",
   "execution_count": 16,
   "metadata": {},
   "outputs": [
    {
     "data": {
      "text/plain": [
       "'{\"status\": \"good\", \"result\": \"False xor False = False\"}'"
      ]
     },
     "execution_count": 16,
     "metadata": {},
     "output_type": "execute_result"
    }
   ],
   "source": [
    "xor(False,False)"
   ]
  },
  {
   "cell_type": "code",
   "execution_count": 17,
   "metadata": {},
   "outputs": [
    {
     "data": {
      "text/plain": [
       "'{\"status\": \"good\", \"result\": \"True xor True = False\"}'"
      ]
     },
     "execution_count": 17,
     "metadata": {},
     "output_type": "execute_result"
    }
   ],
   "source": [
    "xor(True, True)"
   ]
  },
  {
   "cell_type": "code",
   "execution_count": 18,
   "metadata": {},
   "outputs": [
    {
     "data": {
      "text/plain": [
       "'{\"status\": \"good\", \"result\": \"True xor False = True\"}'"
      ]
     },
     "execution_count": 18,
     "metadata": {},
     "output_type": "execute_result"
    }
   ],
   "source": [
    "xor(True, False)"
   ]
  },
  {
   "cell_type": "code",
   "execution_count": 19,
   "metadata": {},
   "outputs": [
    {
     "data": {
      "text/plain": [
       "'{\"status\": \"good\", \"result\": \"False xor True = True\"}'"
      ]
     },
     "execution_count": 19,
     "metadata": {},
     "output_type": "execute_result"
    }
   ],
   "source": [
    "xor(False, True)"
   ]
  },
  {
   "cell_type": "code",
   "execution_count": null,
   "metadata": {},
   "outputs": [],
   "source": []
  }
 ],
 "metadata": {
  "kernelspec": {
   "display_name": "Python 3",
   "language": "python",
   "name": "python3"
  },
  "language_info": {
   "codemirror_mode": {
    "name": "ipython",
    "version": 3
   },
   "file_extension": ".py",
   "mimetype": "text/x-python",
   "name": "python",
   "nbconvert_exporter": "python",
   "pygments_lexer": "ipython3",
   "version": "3.6.5"
  }
 },
 "nbformat": 4,
 "nbformat_minor": 2
}
