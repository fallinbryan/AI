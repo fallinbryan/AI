{
 "cells": [
  {
   "cell_type": "code",
   "execution_count": 1,
   "metadata": {},
   "outputs": [],
   "source": [
    "from IPython.display import HTML, Javascript\n",
    "from NeuralNetwork import NeuralNetwork as NN\n",
    "import json\n",
    "import threading\n",
    "import random\n",
    "import MNIST\n",
    "import numpy as np"
   ]
  },
  {
   "cell_type": "code",
   "execution_count": 2,
   "metadata": {},
   "outputs": [],
   "source": [
    "normalize = np.vectorize(lambda x: np.float(x/255.0))"
   ]
  },
  {
   "cell_type": "code",
   "execution_count": 3,
   "metadata": {},
   "outputs": [],
   "source": [
    "nn = NN(28*28,[32,16],10)\n",
    "nn.learingRate = .1\n",
    "answerkey = [0,1,2,3,4,5,6,7,8,9]\n",
    "train_images =  MNIST.get_images('mnist/train-images-idx3-ubyte')\n",
    "test_images  =  MNIST.get_images('mnist/t10k-images-idx3-ubyte')\n",
    "train_labels =  MNIST.get_labels('mnist/train-labels-idx1-ubyte')\n",
    "test_labels  =  MNIST.get_labels('mnist/t10k-labels-idx1-ubyte')\n",
    "\n",
    "test_data = []\n",
    "train_data = []\n",
    "\n",
    "data_amount = len(train_images)\n",
    "for i in range(data_amount):\n",
    "    label=[0,0,0,0,0,0,0,0,0,0]\n",
    "    label[train_labels[i]]=1\n",
    "    train_data.append({'input':train_images[i],'target':label})\n",
    "    \n",
    "data_amount = len(test_images)   \n",
    "for i in range(data_amount):\n",
    "    label=[0,0,0,0,0,0,0,0,0,0]\n",
    "    label[test_labels[i]]=1\n",
    "    test_data.append({'input':test_images[i],'target':label})\n",
    "    "
   ]
  },
  {
   "cell_type": "code",
   "execution_count": 4,
   "metadata": {},
   "outputs": [],
   "source": [
    "def nnJson():\n",
    "    print(nn.toJSON())"
   ]
  },
  {
   "cell_type": "code",
   "execution_count": 5,
   "metadata": {},
   "outputs": [],
   "source": [
    "def train():\n",
    "    random.shuffle(train_data)\n",
    "    counter = 0;\n",
    "    total = len(train_data)\n",
    "    for data in train_data:\n",
    "        nn.train(normalize(data['input']),data['target'])\n",
    "        counter += 1\n",
    "        print('{0:.2%} complete'.format(counter/total),end='\\r')\n",
    "    nn.predict(train_data[0]['input'])\n",
    "        \n",
    "    "
   ]
  },
  {
   "cell_type": "code",
   "execution_count": 6,
   "metadata": {},
   "outputs": [],
   "source": [
    "def test():\n",
    "    num_correct = 0\n",
    "    counter = 0\n",
    "    total = len(test_data)\n",
    "    for data in test_data:\n",
    "        prediction = nn.predict(normalize(data['input'])).argmax()\n",
    "        if data['target'].index(1) == prediction:\n",
    "            num_correct += 1\n",
    "        counter += 1;\n",
    "        print('{0:.2%} completed     '.format(counter/total),end='\\r')\n",
    "    score = num_correct / total\n",
    "    print('{} out of {} correct'.format(num_correct,total))\n",
    "    return score\n",
    "    \n",
    "    "
   ]
  },
  {
   "cell_type": "code",
   "execution_count": 7,
   "metadata": {},
   "outputs": [],
   "source": [
    "accuracies = []"
   ]
  },
  {
   "cell_type": "code",
   "execution_count": 8,
   "metadata": {},
   "outputs": [],
   "source": [
    "nn.learingRate = .1"
   ]
  },
  {
   "cell_type": "code",
   "execution_count": 16,
   "metadata": {},
   "outputs": [
    {
     "name": "stdout",
     "output_type": "stream",
     "text": [
      "Testing\n",
      "980 out of 10000 correct\n",
      "accuracy:9.80%\n",
      "Training\n",
      "100.00% complete\n",
      "Epoch: 1 Complete\n"
     ]
    }
   ],
   "source": [
    "counter = 0\n",
    "#while accuracy < .89\n",
    "while counter < 1:\n",
    "    print('Testing')\n",
    "    accuracy = test()\n",
    "    print('accuracy:{0:.2%}'.format(accuracy))\n",
    "    accuracies.append(accuracy)\n",
    "    print('Training')\n",
    "    train()\n",
    "    counter += 1\n",
    "    print('\\nEpoch: {} Complete'.format(counter))\n"
   ]
  },
  {
   "cell_type": "code",
   "execution_count": 12,
   "metadata": {},
   "outputs": [
    {
     "name": "stdout",
     "output_type": "stream",
     "text": [
      "980 out of 10000 correct\n",
      "accuracy:9.80%\n"
     ]
    }
   ],
   "source": [
    "print('accuracy:{0:.2%}'.format(test()))"
   ]
  },
  {
   "cell_type": "code",
   "execution_count": 14,
   "metadata": {},
   "outputs": [
    {
     "data": {
      "text/plain": [
       "[]"
      ]
     },
     "execution_count": 14,
     "metadata": {},
     "output_type": "execute_result"
    }
   ],
   "source": [
    "accuracies"
   ]
  },
  {
   "cell_type": "code",
   "execution_count": 9,
   "metadata": {},
   "outputs": [
    {
     "data": {
      "text/plain": [
       "3"
      ]
     },
     "execution_count": 9,
     "metadata": {},
     "output_type": "execute_result"
    }
   ],
   "source": [
    "train_labels[111]"
   ]
  },
  {
   "cell_type": "code",
   "execution_count": 10,
   "metadata": {},
   "outputs": [
    {
     "data": {
      "text/plain": [
       "array([[0.5],\n",
       "       [0.5],\n",
       "       [0.5],\n",
       "       [0.5],\n",
       "       [0.5],\n",
       "       [0.5],\n",
       "       [0.5],\n",
       "       [0.5],\n",
       "       [0.5],\n",
       "       [0.5]])"
      ]
     },
     "execution_count": 10,
     "metadata": {},
     "output_type": "execute_result"
    }
   ],
   "source": [
    "p = nn.predict(normalize(train_data[111]['input']))\n",
    "p"
   ]
  },
  {
   "cell_type": "code",
   "execution_count": 13,
   "metadata": {},
   "outputs": [
    {
     "data": {
      "text/plain": [
       "False"
      ]
     },
     "execution_count": 13,
     "metadata": {},
     "output_type": "execute_result"
    }
   ],
   "source": [
    "train_data[111]['target'].index(1) == p.argmax()"
   ]
  },
  {
   "cell_type": "code",
   "execution_count": 26,
   "metadata": {},
   "outputs": [],
   "source": [
    "with open ('mnist_weights.json','w') as jfile:\n",
    "    jfile.write(nn.toJSON())"
   ]
  },
  {
   "cell_type": "code",
   "execution_count": 31,
   "metadata": {},
   "outputs": [],
   "source": [
    "with open ('mnist_weights.json','r') as jfile:\n",
    "    data = json.loads(jfile.read())"
   ]
  },
  {
   "cell_type": "code",
   "execution_count": null,
   "metadata": {
    "scrolled": true
   },
   "outputs": [],
   "source": [
    "%%html\n",
    "<h1>Neural Network Trainer</h1>\n",
    "\n",
    "\n",
    "<div class=\"input-group\">\n",
    "  <div class=\"input-group-append\">\n",
    "    <span class=\"input-group-text\">Cycles</span>\n",
    "  </div>\n",
    "  <input id=\"cycles\" type=\"text\" class=\"form-control\" aria-label=\"Cycles\" value='100'></input>\n",
    "  <button id=\"go\" class=\"btn btn-default\">GO!</button>\n",
    "</div>\n",
    "\n",
    "<div>\n",
    "    <div class='container'>\n",
    "        <div class='row'>\n",
    "          <div class='col-sm-4' id='weightCol'>\n",
    "            Weights\n",
    "          </div>\n",
    "          <div class='col-sm-4' id='biasCol' style=\"width:150px;\">\n",
    "            Biases\n",
    "          </div>\n",
    "          <div class='col-sm-4' id='layerCol'style=\"width:150px;\">\n",
    "            Layers\n",
    "          </div>\n",
    "        </div>\n",
    "        \n",
    "    </div>\n",
    "    \n",
    "    \n",
    "    <div id='errors'></div>\n",
    "</div>"
   ]
  },
  {
   "cell_type": "code",
   "execution_count": null,
   "metadata": {},
   "outputs": [],
   "source": [
    "%%javascript\n",
    "function nnToTable(data) {\n",
    "    //console.log(data)\n",
    "    if(data.content.ename !== undefined ) {\n",
    "        var content = data.content\n",
    "        $('#errors').html(`<h1>${content.ename}</h1><h2>${content.evalue}</h2><p>${JSON.stringify(content.traceback)}</p>`);\n",
    "        return\n",
    "    } \n",
    "    \n",
    "    var nndata = JSON.parse(data.content.text.trim());\n",
    "    //console.log(nndata);\n",
    "    var wtable = buildTableFromMatrix(nndata.weights[0])\n",
    "    //console.log(`returned table:${wtable}`)\n",
    "    //console.log(wtable)\n",
    "     $('#weightCol').empty()\n",
    "    $('#weightCol').append(`<h3>Weights</h3>`)\n",
    "    for(var i = 0 ; i < nndata.weights.length; i++) {\n",
    "        $('#weightCol').append(buildTableFromMatrix(nndata.weights[i]))\n",
    "    }\n",
    "    $('#biasCol').empty()\n",
    "    $('#biasCol').append(`<h3>Biases</h3>`)\n",
    "    for(var i = 0 ; i < nndata.weights.length; i++) {\n",
    "        $('#biasCol').append(buildTableFromMatrix(nndata.biases[i]))\n",
    "    }\n",
    "    $('#layerCol').empty()\n",
    "    $('#layerCol').append(`<h3>Layers</h3>`)\n",
    "    for(var i = 0 ; i < nndata.weights.length; i++) {\n",
    "        $('#layerCol').append(buildTableFromMatrix(nndata.layers[i]))\n",
    "    }\n",
    "    \n",
    "    $('.row td').each(function() {\n",
    "        var bg = toGreyscale(parseFloat($(this).text()));\n",
    "        //console.log(gscale)\n",
    "        var fg = 255-bg\n",
    "        $(this).css('background-color',`rgb(${bg},${bg},${bg})`);\n",
    "        $(this).css('color',`rgb(${fg},${fg},${fg})` )\n",
    "    });\n",
    "}\n",
    "\n",
    "\n",
    "function buildTableFromMatrix(matrix) {\n",
    "    //console.log(`Building Table from ${matrix.length} x ${matrix[0].length} matrix`)\n",
    "    var table = $('<table>');\n",
    "    table.addClass('table table-striped table-bordered table-dark table-sm')\n",
    "    for(var row = 0; row < matrix.length; row++) {\n",
    "        var tr = $('<tr>');\n",
    "        for(var col = 0; col < matrix[row].length; col++ ) {\n",
    "            tr.append(`<td>${matrix[row][col].toFixed(5)}</td>`)\n",
    "        } table.append(tr)\n",
    "    }\n",
    "    \n",
    "    return table\n",
    "}\n",
    "\n",
    "function map (num, in_min, in_max, out_min, out_max) {\n",
    "  return (num - in_min) * (out_max - out_min) / (in_max - in_min) + out_min;\n",
    "}\n",
    "\n",
    "function toGreyscale(num) {\n",
    "    return map(num, 0.0,1.0,0,255)\n",
    "}\n",
    "\n",
    "var timer = null;\n",
    "$('#go').click(function() {\n",
    "    $('#go').attr('disabled','disabled');\n",
    "     var cycles = 10\n",
    "    if($.isNumeric($(\"#cycles\").val())) {\n",
    "      cycles = parseInt($(\"#cycles\").val())\n",
    "    }\n",
    "    var kernel = IPython.notebook.kernel;\n",
    "    var nnCallbacks = {\n",
    "        iopub : {\n",
    "            output: nnToTable,\n",
    "            }\n",
    "        };\n",
    "    //kernel.execute('threading.thread(target=train, args=(10000,)).start()');\n",
    "    var timerCount = 0\n",
    "    timer = setInterval(function() {\n",
    "        timerCount++\n",
    "        //console.log(timerCount)\n",
    "        $(\"#cycles\").val(cycles-timerCount)\n",
    "        kernel.execute('train(100)')\n",
    "        if(timerCount > cycles) {\n",
    "            $('#go').removeAttr('disabled');\n",
    "            clearInterval(timer)\n",
    "            console.log('suspending Timer')\n",
    "        }\n",
    "        kernel.execute('nnJson()',nnCallbacks)},100)\n",
    "    \n",
    "});"
   ]
  }
 ],
 "metadata": {
  "kernelspec": {
   "display_name": "Python 3",
   "language": "python",
   "name": "python3"
  },
  "language_info": {
   "codemirror_mode": {
    "name": "ipython",
    "version": 3
   },
   "file_extension": ".py",
   "mimetype": "text/x-python",
   "name": "python",
   "nbconvert_exporter": "python",
   "pygments_lexer": "ipython3",
   "version": "3.6.5"
  }
 },
 "nbformat": 4,
 "nbformat_minor": 2
}
