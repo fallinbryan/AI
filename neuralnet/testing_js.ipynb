{
 "cells": [
  {
   "cell_type": "code",
   "execution_count": 1,
   "metadata": {},
   "outputs": [],
   "source": [
    "from IPython.display import HTML, Javascript"
   ]
  },
  {
   "cell_type": "code",
   "execution_count": 2,
   "metadata": {},
   "outputs": [],
   "source": [
    "def hello():\n",
    "    json = '{\"msg\":\"Hello From Python\"}'\n",
    "    print(json)"
   ]
  },
  {
   "cell_type": "code",
   "execution_count": 3,
   "metadata": {},
   "outputs": [
    {
     "data": {
      "text/html": [
       "<h3>Button below should populate a div with output from the hello\n",
       "    function defined above</h3>\n",
       "<button id='pyfunc' class='btn btn-default'>pyfun</button>\n",
       "<div id='outputs'>Not loaded... </div>"
      ],
      "text/plain": [
       "<IPython.core.display.HTML object>"
      ]
     },
     "metadata": {},
     "output_type": "display_data"
    }
   ],
   "source": [
    "%%html\n",
    "<h3>Button below should populate a div with output from the hello\n",
    "    function defined above</h3>\n",
    "<button id='pyfunc' class='btn btn-default'>pyfun</button>\n",
    "<div id='outputs'>Not loaded... </div>"
   ]
  },
  {
   "cell_type": "code",
   "execution_count": 4,
   "metadata": {},
   "outputs": [
    {
     "data": {
      "application/javascript": [
       "console.log('javascript executing')\n",
       "function handle_output(data) {\n",
       "    console.log('We made it into the execution handler')\n",
       "    console.log(data);\n",
       "    var dict = JSON.parse(data.content.text.trim());\n",
       "    console.log(dict);\n",
       "    $('#outputs').html(`<h1>${dict.msg}</h1>`)\n",
       "    \n",
       "}\n",
       "var callbacks = {\n",
       "    iopub : {\n",
       "        output: handle_output,\n",
       "    }\n",
       "};\n",
       "\n",
       "var kernel = IPython.notebook.kernel;\n",
       "$('#pyfunc').click(function () {\n",
       "    console.log('button clicked');\n",
       "    console.log(kernel)\n",
       "    kernel.execute('foo=\"bar\"');\n",
       "    kernel.execute('hello()',callbacks);\n",
       "});"
      ],
      "text/plain": [
       "<IPython.core.display.Javascript object>"
      ]
     },
     "metadata": {},
     "output_type": "display_data"
    }
   ],
   "source": [
    "%%javascript\n",
    "console.log('javascript executing')\n",
    "function handle_output(data) {\n",
    "    console.log('We made it into the execution handler')\n",
    "    console.log(data);\n",
    "    var dict = JSON.parse(data.content.text.trim());\n",
    "    console.log(dict);\n",
    "    $('#outputs').html(`<h1>${dict.msg}</h1>`)\n",
    "    \n",
    "}\n",
    "var callbacks = {\n",
    "    iopub : {\n",
    "        output: handle_output,\n",
    "    }\n",
    "};\n",
    "\n",
    "var kernel = IPython.notebook.kernel;\n",
    "$('#pyfunc').click(function () {\n",
    "    console.log('button clicked');\n",
    "    console.log(kernel)\n",
    "    kernel.execute('foo=\"bar\"');\n",
    "    kernel.execute('hello()',callbacks);\n",
    "});\n"
   ]
  },
  {
   "cell_type": "code",
   "execution_count": 5,
   "metadata": {},
   "outputs": [
    {
     "data": {
      "text/plain": [
       "'bar'"
      ]
     },
     "execution_count": 5,
     "metadata": {},
     "output_type": "execute_result"
    }
   ],
   "source": [
    "foo\n"
   ]
  },
  {
   "cell_type": "code",
   "execution_count": null,
   "metadata": {},
   "outputs": [],
   "source": []
  }
 ],
 "metadata": {
  "kernelspec": {
   "display_name": "Python 3",
   "language": "python",
   "name": "python3"
  },
  "language_info": {
   "codemirror_mode": {
    "name": "ipython",
    "version": 3
   },
   "file_extension": ".py",
   "mimetype": "text/x-python",
   "name": "python",
   "nbconvert_exporter": "python",
   "pygments_lexer": "ipython3",
   "version": "3.6.4"
  }
 },
 "nbformat": 4,
 "nbformat_minor": 2
}
